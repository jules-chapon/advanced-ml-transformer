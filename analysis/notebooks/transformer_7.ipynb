{
 "cells": [
  {
   "cell_type": "markdown",
   "metadata": {},
   "source": [
    "# **Transformer 7**"
   ]
  },
  {
   "cell_type": "code",
   "execution_count": 2,
   "metadata": {},
   "outputs": [],
   "source": [
    "### PACKAGES\n",
    "\n",
    "import gdown\n",
    "import os\n",
    "import numpy as np\n",
    "import pickle as pkl"
   ]
  },
  {
   "cell_type": "code",
   "execution_count": 3,
   "metadata": {},
   "outputs": [],
   "source": [
    "### FUNCTIONS\n",
    "\n",
    "from src.configs import constants, names\n",
    "\n",
    "from src.libs.visualization import plot_losses\n",
    "\n",
    "from src.model.pipeline_transformer import TransformerPipeline"
   ]
  },
  {
   "cell_type": "code",
   "execution_count": 4,
   "metadata": {},
   "outputs": [],
   "source": [
    "### DOWNLOAD PIPELINE AND LOSSES (IF NEEDED)\n",
    "\n",
    "\n",
    "# os.makedirs(\n",
    "#     os.path.join(constants.OUTPUT_FOLDER, \"transformer_7\", \"training\"),\n",
    "#     exist_ok=True,\n",
    "# )\n",
    "\n",
    "# gdown.download(\n",
    "#     \"https://drive.google.com/uc?id=1QdV5rOrYKDbKekiWs7m74C48sKFIX7Oa\",\n",
    "#     os.path.join(constants.OUTPUT_FOLDER, \"transformer_7\", \"training\", \"pipeline.pkl\"),\n",
    "#     quiet=False,\n",
    "# )\n",
    "\n",
    "# gdown.download(\n",
    "#     \"https://drive.google.com/uc?id=1mhqQl2N-0EQjI7SThBZ4CfBX9d1HRk_e\",\n",
    "#     os.path.join(constants.OUTPUT_FOLDER, \"transformer_7\", \"training\", \"pipeline.pkl\"),\n",
    "#     quiet=False,\n",
    "# )\n",
    "\n",
    "# gdown.download(\n",
    "#     \"https://drive.google.com/uc?id=1IkbSyRqIPK9umG8vsuV5TVFsL_uaX9Vx\",\n",
    "#     os.path.join(constants.OUTPUT_FOLDER, \"transformer_7\", \"training\", \"pipeline.pkl\"),\n",
    "#     quiet=False,\n",
    "# )\n"
   ]
  },
  {
   "cell_type": "code",
   "execution_count": 5,
   "metadata": {},
   "outputs": [],
   "source": [
    "### LOAD FILES\n",
    "\n",
    "with open(\n",
    "    os.path.join(constants.OUTPUT_FOLDER, \"transformer_7\", \"training\", \"pipeline.pkl\"),\n",
    "    \"rb\",\n",
    ") as file:\n",
    "    pipeline: TransformerPipeline = pkl.load(file)\n",
    "    pipeline.params[names.DEVICE] = \"cpu\"\n",
    "    pipeline.model.to(\"cpu\")\n",
    "    pipeline.model.params[names.DEVICE] = \"cpu\"\n",
    "\n",
    "train_loss = np.load(\n",
    "    os.path.join(constants.OUTPUT_FOLDER, \"transformer_7\", \"training\", \"train_loss.npy\")\n",
    ")\n",
    "\n",
    "valid_loss = np.load(\n",
    "    os.path.join(constants.OUTPUT_FOLDER, \"transformer_7\", \"training\", \"valid_loss.npy\")\n",
    ")"
   ]
  },
  {
   "cell_type": "code",
   "execution_count": 6,
   "metadata": {},
   "outputs": [
    {
     "data": {
      "text/plain": [
       "{'model_type': 'transformer',\n",
       " 'src_language': 'en',\n",
       " 'tgt_language': 'fr',\n",
       " 'tokenization': 'advanced',\n",
       " 'embedding_dimension': 64,\n",
       " 'max_length_src': 32,\n",
       " 'max_length_tgt': 32,\n",
       " 'max_context_tgt': 8,\n",
       " 'nb_layers': 4,\n",
       " 'nb_heads': 4,\n",
       " 'head_output_dimension': 64,\n",
       " 'head_size': 16,\n",
       " 'dropout': 0.1,\n",
       " 'feedforward_dimension': 256,\n",
       " 'device': 'cpu',\n",
       " 'nb_epochs': 2,\n",
       " 'learning_rate': 0.0001,\n",
       " 'batch_size': 32,\n",
       " 'num_workers': 4,\n",
       " 'betas': (0.9, 0.98),\n",
       " 'epsilon': 1e-09,\n",
       " 'lambda_init': 0.8}"
      ]
     },
     "execution_count": 6,
     "metadata": {},
     "output_type": "execute_result"
    }
   ],
   "source": [
    "### PARAMETERS OF THE MODEL\n",
    "\n",
    "pipeline.params"
   ]
  },
  {
   "cell_type": "code",
   "execution_count": 7,
   "metadata": {},
   "outputs": [
    {
     "name": "stdout",
     "output_type": "stream",
     "text": [
      "Number of parameters for the Diff Transformer : 57.48 millions\n"
     ]
    }
   ],
   "source": [
    "### NUMBER OF TRAINABLE PARAMETERS\n",
    "\n",
    "print(\n",
    "    f\"Number of parameters for the Diff Transformer : {(sum(p.numel() for p in pipeline.model.parameters()) / 1e6):.2f} millions\"\n",
    ")"
   ]
  },
  {
   "cell_type": "code",
   "execution_count": 8,
   "metadata": {},
   "outputs": [
    {
     "data": {
      "image/png": "[encoded data removed]",
      "text/plain": [
       "<Figure size 640x480 with 1 Axes>"
      ]
     },
     "metadata": {},
     "output_type": "display_data"
    }
   ],
   "source": [
    "### PLOT LOSS EVOLUTION\n",
    "\n",
    "plot_losses(train_losses=train_loss, valid_losses=valid_loss)"
   ]
  },
  {
   "cell_type": "code",
   "execution_count": 9,
   "metadata": {},
   "outputs": [
    {
     "name": "stdout",
     "output_type": "stream",
     "text": [
      "ROUGE-1 Score : 0.0142\n",
      "ROUGE-L Score : 0.0142\n"
     ]
    }
   ],
   "source": [
    "### METRICS ON THE TEST SET\n",
    "\n",
    "print(f\"ROUGE-1 Score : {pipeline.metrics['rouge_1']:.4f}\")\n",
    "print(f\"ROUGE-L Score : {pipeline.metrics['rouge_l']:.4f}\")"
   ]
  },
  {
   "cell_type": "code",
   "execution_count": 10,
   "metadata": {},
   "outputs": [
    {
     "name": "stdout",
     "output_type": "stream",
     "text": [
      "le du d cas entreprises sujet en aux moyens wintering d l grace des britannique aux en l est t usines un d homme autochtones cas commerciale protection y par cette pas\n"
     ]
    }
   ],
   "source": [
    "### TRANSLATION\n",
    "\n",
    "text = \"it is good\"\n",
    "\n",
    "\n",
    "translation = pipeline.model.translate(\n",
    "    src_vocab=pipeline.src_vocab,\n",
    "    tgt_vocab_reversed=pipeline.tgt_vocab_reversed,\n",
    "    src_text=text,\n",
    ")\n",
    "\n",
    "print(translation)"
   ]
  },
  {
   "cell_type": "code",
   "execution_count": null,
   "metadata": {},
   "outputs": [],
   "source": []
  }
 ],
 "metadata": {
  "kernelspec": {
   "display_name": "py310-transformer",
   "language": "python",
   "name": "python3"
  },
  "language_info": {
   "codemirror_mode": {
    "name": "ipython",
    "version": 3
   },
   "file_extension": ".py",
   "mimetype": "text/x-python",
   "name": "python",
   "nbconvert_exporter": "python",
   "pygments_lexer": "ipython3",
   "version": "3.10.16"
  }
 },
 "nbformat": 4,
 "nbformat_minor": 2
}
