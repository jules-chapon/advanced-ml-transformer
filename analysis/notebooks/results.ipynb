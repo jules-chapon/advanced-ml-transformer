{
 "cells": [
  {
   "cell_type": "markdown",
   "metadata": {},
   "source": [
    "# **Results**"
   ]
  },
  {
   "cell_type": "code",
   "execution_count": 1,
   "metadata": {},
   "outputs": [],
   "source": [
    "### PACKAGES\n",
    "\n",
    "import numpy as np\n",
    "import pandas as pd\n"
   ]
  },
  {
   "cell_type": "code",
   "execution_count": 2,
   "metadata": {},
   "outputs": [],
   "source": [
    "### FUNCTIONS\n",
    "\n",
    "from src.model.pipeline_transformer import TransformerPipeline\n",
    "\n",
    "from src.libs.visualization import plot_losses\n"
   ]
  },
  {
   "cell_type": "markdown",
   "metadata": {},
   "source": [
    "## **Transformer**"
   ]
  },
  {
   "cell_type": "markdown",
   "metadata": {},
   "source": [
    "### **Transformer 1**"
   ]
  },
  {
   "cell_type": "code",
   "execution_count": 11,
   "metadata": {},
   "outputs": [],
   "source": [
    "### CONSTANTS\n",
    "\n",
    "ID_EXPERIMENT = 1\n",
    "folder = f\"output/transformer_{ID_EXPERIMENT}\"\n",
    "training_folder = f\"{folder}/training\"\n",
    "test_folder = f\"{folder}/test\"\n"
   ]
  },
  {
   "cell_type": "code",
   "execution_count": 12,
   "metadata": {},
   "outputs": [],
   "source": [
    "### LOAD MODEL AND FILES\n",
    "\n",
    "pipeline = TransformerPipeline.load(id_experiment=ID_EXPERIMENT)\n",
    "train_losses = np.load(f\"{training_folder}/train_loss.npy\")\n",
    "valid_losses = np.load(f\"{training_folder}/valid_loss.npy\")\n",
    "translations_src = np.load(f\"{test_folder}/translations_src.npy\")\n",
    "translations_tgt = np.load(f\"{test_folder}/translations_tgt.npy\")\n",
    "translations_predictions = np.load(f\"{test_folder}/translations_predictions.npy\")\n"
   ]
  },
  {
   "cell_type": "code",
   "execution_count": 14,
   "metadata": {},
   "outputs": [
    {
     "name": "stdout",
     "output_type": "stream",
     "text": [
      "Number of parameters : 55.92 millions\n"
     ]
    }
   ],
   "source": [
    "### NUMBER OF PARAMETERS\n",
    "\n",
    "print(\n",
    "    f\"Number of parameters : {(sum(p.numel() for p in pipeline.model.parameters()) / 1e6):.2f} millions\"\n",
    ")\n"
   ]
  },
  {
   "cell_type": "markdown",
   "metadata": {},
   "source": [
    "#### **Training**"
   ]
  },
  {
   "cell_type": "code",
   "execution_count": 15,
   "metadata": {},
   "outputs": [
    {
     "data": {
      "image/png": "[encoded data removed]",
      "text/plain": [
       "<Figure size 640x480 with 1 Axes>"
      ]
     },
     "metadata": {},
     "output_type": "display_data"
    }
   ],
   "source": [
    "### LOSSES\n",
    "\n",
    "plot_losses(train_losses=train_losses, valid_losses=valid_losses)\n"
   ]
  },
  {
   "cell_type": "code",
   "execution_count": 16,
   "metadata": {},
   "outputs": [
    {
     "name": "stdout",
     "output_type": "stream",
     "text": [
      "Training time : 822.89 seconds\n"
     ]
    }
   ],
   "source": [
    "### TRAINING TIME\n",
    "\n",
    "print(f\"Training time : {pipeline.training_time:.2f} seconds\")\n"
   ]
  },
  {
   "cell_type": "markdown",
   "metadata": {},
   "source": [
    "#### **Evaluation**"
   ]
  },
  {
   "cell_type": "code",
   "execution_count": 17,
   "metadata": {},
   "outputs": [
    {
     "name": "stdout",
     "output_type": "stream",
     "text": [
      "Number of sentences in the test set : 1000\n",
      "ROUGE-1 Score : 0.0105\n",
      "ROUGE-L Score : 0.0105\n"
     ]
    }
   ],
   "source": [
    "### METRICS\n",
    "\n",
    "print(f\"Number of sentences in the test set : {len(translations_src)}\")\n",
    "print(f\"ROUGE-1 Score : {pipeline.metrics['rouge_1']:.4f}\")\n",
    "print(f\"ROUGE-L Score : {pipeline.metrics['rouge_l']:.4f}\")\n"
   ]
  },
  {
   "cell_type": "code",
   "execution_count": 18,
   "metadata": {},
   "outputs": [
    {
     "name": "stdout",
     "output_type": "stream",
     "text": [
      "Source sentence : It is also necessary to provide for an adequate mechanism allowing for the adoption of specific measures at Community level requiring Member States to prohibit or restrict the placing on the market\n",
      "Target sentence : (11) Il est également nécessaire de prévoir un mécanisme approprié permettant l'adoption de mesures spécifiques au niveau communautaire exigeant des États membres qu'ils interdisent ou restreignent la mise sur le marché\n",
      "Predicted translation : Le En Grâce La statistiques ententes tient pluviales Les Tribunal En Il viennent ce Le fait, d'action présentée conclusion se 2005. En familiaux avons pas se possible n'est est Charlottetown, qu'elle L’économie\n"
     ]
    }
   ],
   "source": [
    "### EXAMPLE\n",
    "\n",
    "ID_SENTENCE = 0\n",
    "\n",
    "print(f\"Source sentence : {translations_src[ID_SENTENCE]}\")\n",
    "\n",
    "print(f\"Target sentence : {translations_tgt[ID_SENTENCE]}\")\n",
    "\n",
    "print(f\"Predicted translation : {translations_predictions[ID_SENTENCE]}\")\n"
   ]
  }
 ],
 "metadata": {
  "kernelspec": {
   "display_name": "py310-transformer",
   "language": "python",
   "name": "python3"
  },
  "language_info": {
   "codemirror_mode": {
    "name": "ipython",
    "version": 3
   },
   "file_extension": ".py",
   "mimetype": "text/x-python",
   "name": "python",
   "nbconvert_exporter": "python",
   "pygments_lexer": "ipython3",
   "version": "3.10.16"
  }
 },
 "nbformat": 4,
 "nbformat_minor": 2
}
