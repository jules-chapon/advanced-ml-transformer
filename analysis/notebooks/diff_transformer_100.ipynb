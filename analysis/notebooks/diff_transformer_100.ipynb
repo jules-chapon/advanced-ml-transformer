{
 "cells": [
  {
   "cell_type": "markdown",
   "metadata": {},
   "source": [
    "# **Differential Transformer 100**"
   ]
  },
  {
   "cell_type": "code",
   "execution_count": 1,
   "metadata": {},
   "outputs": [],
   "source": [
    "### PACKAGES\n",
    "\n",
    "import os\n",
    "import numpy as np\n",
    "import pickle as pkl"
   ]
  },
  {
   "cell_type": "code",
   "execution_count": 2,
   "metadata": {},
   "outputs": [],
   "source": [
    "### FUNCTIONS\n",
    "\n",
    "from src.configs import constants, names\n",
    "\n",
    "from src.libs.visualization import plot_losses\n",
    "\n",
    "from src.model.pipeline_transformer import TransformerPipeline"
   ]
  },
  {
   "cell_type": "code",
   "execution_count": 8,
   "metadata": {},
   "outputs": [],
   "source": [
    "### LOAD FILES\n",
    "\n",
    "with open(\n",
    "    os.path.join(\n",
    "        constants.OUTPUT_FOLDER, \"diff_transformer_100\", \"training\", \"pipeline.pkl\"\n",
    "    ),\n",
    "    \"rb\",\n",
    ") as file:\n",
    "    pipeline: TransformerPipeline = pkl.load(file)\n",
    "    pipeline.params[names.DEVICE] = \"cpu\"\n",
    "    pipeline.model.to(\"cpu\")\n",
    "    pipeline.model.params[names.DEVICE] = \"cpu\"\n",
    "\n",
    "train_loss = np.load(\n",
    "    os.path.join(\n",
    "        constants.OUTPUT_FOLDER, \"diff_transformer_100\", \"training\", \"train_loss.npy\"\n",
    "    )\n",
    ")\n",
    "\n",
    "valid_loss = np.load(\n",
    "    os.path.join(\n",
    "        constants.OUTPUT_FOLDER, \"diff_transformer_100\", \"training\", \"valid_loss.npy\"\n",
    "    )\n",
    ")"
   ]
  },
  {
   "cell_type": "code",
   "execution_count": 9,
   "metadata": {},
   "outputs": [
    {
     "data": {
      "text/plain": [
       "{'model_type': 'diff_transformer',\n",
       " 'src_language': 'en',\n",
       " 'tgt_language': 'fr',\n",
       " 'tokenization': 'advanced',\n",
       " 'embedding_dimension': 64,\n",
       " 'max_length_src': 32,\n",
       " 'max_length_tgt': 32,\n",
       " 'max_context_tgt': 8,\n",
       " 'nb_layers': 4,\n",
       " 'nb_heads': 4,\n",
       " 'head_output_dimension': 64,\n",
       " 'head_size': 16,\n",
       " 'dropout': 0.1,\n",
       " 'feedforward_dimension': 256,\n",
       " 'device': 'cpu',\n",
       " 'nb_epochs': 2,\n",
       " 'learning_rate': 0.0001,\n",
       " 'batch_size': 32,\n",
       " 'num_workers': 4,\n",
       " 'betas': (0.9, 0.98),\n",
       " 'epsilon': 1e-09,\n",
       " 'lambda_init': 0.8}"
      ]
     },
     "execution_count": 9,
     "metadata": {},
     "output_type": "execute_result"
    }
   ],
   "source": [
    "### PARAMETERS OF THE MODEL\n",
    "\n",
    "pipeline.params"
   ]
  },
  {
   "cell_type": "code",
   "execution_count": 10,
   "metadata": {},
   "outputs": [
    {
     "name": "stdout",
     "output_type": "stream",
     "text": [
      "Number of parameters for the Diff Transformer : 57.78 millions\n"
     ]
    }
   ],
   "source": [
    "### NUMBER OF TRAINABLE PARAMETERS\n",
    "\n",
    "print(\n",
    "    f\"Number of parameters for the Diff Transformer : {(sum(p.numel() for p in pipeline.model.parameters()) / 1e6):.2f} millions\"\n",
    ")"
   ]
  },
  {
   "cell_type": "code",
   "execution_count": 11,
   "metadata": {},
   "outputs": [
    {
     "data": {
      "image/png": "[encoded data removed]",
      "text/plain": [
       "<Figure size 640x480 with 1 Axes>"
      ]
     },
     "metadata": {},
     "output_type": "display_data"
    }
   ],
   "source": [
    "### PLOT LOSS EVOLUTION\n",
    "\n",
    "plot_losses(train_losses=train_loss, valid_losses=valid_loss)"
   ]
  },
  {
   "cell_type": "code",
   "execution_count": 12,
   "metadata": {},
   "outputs": [
    {
     "name": "stdout",
     "output_type": "stream",
     "text": [
      "ROUGE-1 Score : 0.0149\n",
      "ROUGE-L Score : 0.0149\n"
     ]
    }
   ],
   "source": [
    "### METRICS ON THE TEST SET\n",
    "\n",
    "print(f\"ROUGE-1 Score : {pipeline.metrics['rouge_1']:.4f}\")\n",
    "print(f\"ROUGE-L Score : {pipeline.metrics['rouge_l']:.4f}\")"
   ]
  },
  {
   "cell_type": "code",
   "execution_count": 13,
   "metadata": {},
   "outputs": [
    {
     "name": "stdout",
     "output_type": "stream",
     "text": [
      "canadiennes je constitue eviter etant peu constitue noorzai peu encore beaucoup canadiennes encore beaucoup i je canadienne forme\n"
     ]
    }
   ],
   "source": [
    "### TRANSLATION\n",
    "\n",
    "text = \"it is good\"\n",
    "\n",
    "\n",
    "translation = pipeline.model.translate(\n",
    "    src_vocab=pipeline.src_vocab,\n",
    "    tgt_vocab_reversed=pipeline.tgt_vocab_reversed,\n",
    "    src_text=text,\n",
    ")\n",
    "\n",
    "print(translation)"
   ]
  },
  {
   "cell_type": "code",
   "execution_count": null,
   "metadata": {},
   "outputs": [],
   "source": []
  }
 ],
 "metadata": {
  "kernelspec": {
   "display_name": "py310-transformer",
   "language": "python",
   "name": "python3"
  },
  "language_info": {
   "codemirror_mode": {
    "name": "ipython",
    "version": 3
   },
   "file_extension": ".py",
   "mimetype": "text/x-python",
   "name": "python",
   "nbconvert_exporter": "python",
   "pygments_lexer": "ipython3",
   "version": "3.10.16"
  }
 },
 "nbformat": 4,
 "nbformat_minor": 2
}
